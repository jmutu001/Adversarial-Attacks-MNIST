{
  "nbformat": 4,
  "nbformat_minor": 0,
  "metadata": {
    "colab": {
      "provenance": [],
      "include_colab_link": true
    },
    "kernelspec": {
      "name": "python3",
      "display_name": "Python 3"
    },
    "language_info": {
      "name": "python"
    },
    "accelerator": "GPU",
    "gpuClass": "standard"
  },
  "cells": [
    {
      "cell_type": "markdown",
      "metadata": {
        "id": "view-in-github",
        "colab_type": "text"
      },
      "source": [
        "<a href=\"https://colab.research.google.com/github/jmutu001/Adversarial-Attacks-MNIST/blob/main/MNIST_Adversarial_Example.ipynb\" target=\"_parent\"><img src=\"https://colab.research.google.com/assets/colab-badge.svg\" alt=\"Open In Colab\"/></a>"
      ]
    },
    {
      "cell_type": "markdown",
      "metadata": {
        "id": "rWObBwWOw18o"
      },
      "source": [
        "Import **Pytorch** libraries and APIs. ss\n"
      ]
    },
    {
      "cell_type": "code",
      "source": [
        "# prompt: CNN Model (cnn_model.py)\n",
        "\n",
        "# Import **Pytorch** libraries and APIs.\n",
        "import torch\n",
        "import torch.nn as nn\n",
        "import torch.nn.functional as F\n",
        "\n",
        "\n",
        "class CNNModel(nn.Module):\n",
        "    def __init__(self):\n",
        "        super(CNNModel, self).__init__()\n",
        "        # Define the layers of the CNN\n",
        "        self.conv1 = nn.Conv2d(1, 32, kernel_size=3, stride=1, padding=1)\n",
        "        self.relu1 = nn.ReLU()\n",
        "        self.pool1 = nn.MaxPool2d(kernel_size=2, stride=2)\n",
        "        self.conv2 = nn.Conv2d(32, 64, kernel_size=3, stride=1, padding=1)\n",
        "        self.relu2 = nn.ReLU()\n",
        "        self.pool2 = nn.MaxPool2d(kernel_size=2, stride=2)\n",
        "        self.fc1 = nn.Linear(7 * 7 * 64, 128) # Adjust input size if image size changes\n",
        "        self.relu3 = nn.ReLU()\n",
        "        self.fc2 = nn.Linear(128, 10) # Output layer for 10 classes\n",
        "\n",
        "    def forward(self, x):\n",
        "        # Define the forward pass\n",
        "        x = self.pool1(self.relu1(self.conv1(x)))\n",
        "        x = self.pool2(self.relu2(self.conv2(x)))\n",
        "        x = x.view(-1, 7 * 7 * 64) # Flatten the tensor\n",
        "        x = self.relu3(self.fc1(x))\n",
        "        x = self.fc2(x)\n",
        "        return x\n"
      ],
      "metadata": {
        "id": "bnY6l9OzomQ3"
      },
      "execution_count": null,
      "outputs": []
    },
    {
      "cell_type": "code",
      "metadata": {
        "id": "dEDCHrQcjlQ5",
        "colab": {
          "base_uri": "https://localhost:8080/"
        },
        "outputId": "42844d11-a7cf-492f-9814-fbec32b83bf7"
      },
      "source": [
        "import torch\n",
        "import torch.nn as nn\n",
        "from torch.utils.data import DataLoader\n",
        "import torchvision.transforms as transforms\n",
        "import torchvision.datasets\n",
        "from torch.utils.data import Subset\n",
        "from torch.autograd import Variable\n",
        "import matplotlib.pyplot as plt\n",
        "import numpy as np\n",
        "import torch.nn.functional as F\n",
        "\n",
        "# define the function of displaying multiple images\n",
        "def show_images(images) -> None:\n",
        "    n: int = images.size(0)\n",
        "\n",
        "    f = plt.figure(figsize=(24, 6))\n",
        "    for i in range(n):\n",
        "        # Debug, plot figure\n",
        "        f.add_subplot(1, n, i + 1)\n",
        "        plt.imshow(images[i].cpu().squeeze(), cmap='gray')\n",
        "        plt.axis('off')\n",
        "\n",
        "    plt.show(block=True)\n",
        "\n",
        "# define the function of displaying multiple images\n",
        "def show_images_withPred(images,label,pred) -> None:\n",
        "    n: int = images.size(0)\n",
        "\n",
        "    f = plt.figure(figsize=(24, 6))\n",
        "    for i in range(n):\n",
        "        # Debug, plot figure\n",
        "        f.add_subplot(1, n, i + 1)\n",
        "        plt.imshow(images[i].cpu().squeeze(), cmap='gray')\n",
        "        plt.title(\"{} -> {}\".format(label[i], pred[i]))\n",
        "        #plt.title(\"Conf:{} \\n {} -> {}\".format(conf[i][pred[i]]*100,label[i], pred[i]))\n",
        "        plt.axis('off')\n",
        "\n",
        "    plt.show(block=True)\n",
        "\n",
        "# Hyperparameters and Data loaders\n",
        "num_epochs = 10\n",
        "num_classes = 10\n",
        "batch_size = 256\n",
        "learning_rate = 0.001\n",
        "\n",
        "\n",
        "DATA_PATH = 'data/'\n",
        "MODEL_STORE_PATH = 'models/'\n",
        "\n",
        "# transforms to apply to the data\n",
        "trans = transforms.Compose([transforms.ToTensor()])\n",
        "\n",
        "# MNIST dataset\n",
        "train_dataset = torchvision.datasets.MNIST(root=DATA_PATH, train=True, transform=trans, download=True)\n",
        "test_dataset = torchvision.datasets.MNIST(root=DATA_PATH, train=False, transform=trans)\n",
        "\n",
        "# Data loader\n",
        "train_loader = DataLoader(dataset=train_dataset, batch_size=batch_size, num_workers=4, shuffle=True)\n",
        "test_loader = DataLoader(dataset=test_dataset, batch_size=batch_size, num_workers=4, shuffle=False)\n",
        "# CNN\n",
        "class LeNet(nn.Module):\n",
        "    def __init__(self):\n",
        "        super(LeNet, self).__init__()\n",
        "        self.features = nn.Sequential(\n",
        "            nn.Conv2d(1, 8, kernel_size=5, stride=1, padding=2),\n",
        "            nn.ReLU(),\n",
        "            nn.BatchNorm2d(8),\n",
        "            nn.MaxPool2d(kernel_size=2, stride=2),\n",
        "            nn.Conv2d(8, 16, kernel_size=5, stride=1, padding=2),\n",
        "            nn.ReLU(),\n",
        "            nn.BatchNorm2d(16),\n",
        "            nn.MaxPool2d(kernel_size=2, stride=2),\n",
        "            nn.Flatten(1, -1),\n",
        "            nn.Linear(7 * 7 * 16, 120),\n",
        "            nn.ReLU(),\n",
        "            nn.Linear(120, 84),\n",
        "            nn.ReLU(),\n",
        "        )\n",
        "        self.fc3 = nn.Linear(84, 10)\n",
        "\n",
        "    def forward(self, x):\n",
        "        out = self.features(x)\n",
        "        out = self.fc3(out)\n",
        "\n",
        "        return out\n",
        "\n",
        "\n",
        "model=LeNet()\n",
        "model.cuda()\n",
        "model.train()\n",
        "\n",
        "# Loss and optimizer\n",
        "criterion = nn.CrossEntropyLoss()\n",
        "optimizer = torch.optim.Adam(model.parameters(), lr=learning_rate)\n",
        "model.train()\n",
        "loss_list_cnn = []\n",
        "acc_list_cnn = []\n",
        "total_step = len(train_loader)\n",
        "\n",
        "for epoch in range(num_epochs):\n",
        "  for i, (images, labels) in enumerate(train_loader):\n",
        "    images = images.cuda()\n",
        "    labels = labels.cuda()\n",
        "\n",
        "    outputs = model(images)\n",
        "\n",
        "    loss = criterion(outputs, labels)\n",
        "    loss_list_cnn.append(loss.item())\n",
        "\n",
        "    # Backprop and percform Adam optimisation\n",
        "    optimizer.zero_grad()\n",
        "    loss.backward()\n",
        "    optimizer.step()\n",
        "\n",
        "    # Track the accuracy\n",
        "    total = labels.size(0)\n",
        "    _, predicted = torch.max(outputs.data, 1)\n",
        "    correct = (predicted == labels).sum().item()\n",
        "    acc_list_cnn.append(correct / total)\n",
        "\n",
        "    if (i%150 == 0):\n",
        "      print('Epoch [{}/{}], Step [{}/{}], Loss: {:.4f}, Accuracy: {:.2f}%'\n",
        "              .format(epoch + 1, num_epochs, i, total_step, loss.item(),\n",
        "                      (correct / total) * 100))\n",
        "\n",
        "\n",
        "model.eval()\n",
        "with torch.no_grad():\n",
        "  correct = 0\n",
        "  total = 0\n",
        "  for images, labels in test_loader:\n",
        "      images = images.cuda()\n",
        "      labels = labels.cuda()\n",
        "\n",
        "      outputs = model(images)\n",
        "      _, predicted = torch.max(outputs.data, 1)\n",
        "      total += labels.size(0)\n",
        "      correct += (predicted == labels).sum().item()\n",
        "\n",
        "print(\n",
        "  'Accuracy of the model on the 10000 test images: {} %'.format((correct / total) * 100))"
      ],
      "execution_count": null,
      "outputs": [
        {
          "output_type": "stream",
          "name": "stdout",
          "text": [
            "Downloading http://yann.lecun.com/exdb/mnist/train-images-idx3-ubyte.gz\n",
            "Downloading http://yann.lecun.com/exdb/mnist/train-images-idx3-ubyte.gz to data/MNIST/raw/train-images-idx3-ubyte.gz\n"
          ]
        },
        {
          "output_type": "stream",
          "name": "stderr",
          "text": [
            "100%|██████████| 9912422/9912422 [00:00<00:00, 105894622.31it/s]\n"
          ]
        },
        {
          "output_type": "stream",
          "name": "stdout",
          "text": [
            "Extracting data/MNIST/raw/train-images-idx3-ubyte.gz to data/MNIST/raw\n",
            "\n",
            "Downloading http://yann.lecun.com/exdb/mnist/train-labels-idx1-ubyte.gz\n",
            "Downloading http://yann.lecun.com/exdb/mnist/train-labels-idx1-ubyte.gz to data/MNIST/raw/train-labels-idx1-ubyte.gz\n"
          ]
        },
        {
          "output_type": "stream",
          "name": "stderr",
          "text": [
            "100%|██████████| 28881/28881 [00:00<00:00, 99618169.26it/s]\n"
          ]
        },
        {
          "output_type": "stream",
          "name": "stdout",
          "text": [
            "Extracting data/MNIST/raw/train-labels-idx1-ubyte.gz to data/MNIST/raw\n",
            "\n",
            "Downloading http://yann.lecun.com/exdb/mnist/t10k-images-idx3-ubyte.gz\n",
            "Downloading http://yann.lecun.com/exdb/mnist/t10k-images-idx3-ubyte.gz to data/MNIST/raw/t10k-images-idx3-ubyte.gz\n"
          ]
        },
        {
          "output_type": "stream",
          "name": "stderr",
          "text": [
            "100%|██████████| 1648877/1648877 [00:00<00:00, 34103710.23it/s]\n"
          ]
        },
        {
          "output_type": "stream",
          "name": "stdout",
          "text": [
            "Extracting data/MNIST/raw/t10k-images-idx3-ubyte.gz to data/MNIST/raw\n",
            "\n",
            "Downloading http://yann.lecun.com/exdb/mnist/t10k-labels-idx1-ubyte.gz\n",
            "Downloading http://yann.lecun.com/exdb/mnist/t10k-labels-idx1-ubyte.gz to data/MNIST/raw/t10k-labels-idx1-ubyte.gz\n"
          ]
        },
        {
          "output_type": "stream",
          "name": "stderr",
          "text": [
            "100%|██████████| 4542/4542 [00:00<00:00, 14779308.59it/s]"
          ]
        },
        {
          "output_type": "stream",
          "name": "stdout",
          "text": [
            "Extracting data/MNIST/raw/t10k-labels-idx1-ubyte.gz to data/MNIST/raw\n",
            "\n"
          ]
        },
        {
          "output_type": "stream",
          "name": "stderr",
          "text": [
            "\n",
            "/usr/local/lib/python3.9/dist-packages/torch/utils/data/dataloader.py:561: UserWarning: This DataLoader will create 4 worker processes in total. Our suggested max number of worker in current system is 2, which is smaller than what this DataLoader is going to create. Please be aware that excessive worker creation might get DataLoader running slow or even freeze, lower the worker number to avoid potential slowness/freeze if necessary.\n",
            "  warnings.warn(_create_warning_msg(\n"
          ]
        },
        {
          "output_type": "stream",
          "name": "stdout",
          "text": [
            "Epoch [1/10], Step [0/235], Loss: 2.3249, Accuracy: 10.94%\n",
            "Epoch [1/10], Step [150/235], Loss: 0.0957, Accuracy: 96.88%\n",
            "Epoch [2/10], Step [0/235], Loss: 0.0372, Accuracy: 99.22%\n",
            "Epoch [2/10], Step [150/235], Loss: 0.0282, Accuracy: 99.22%\n",
            "Epoch [3/10], Step [0/235], Loss: 0.0119, Accuracy: 99.61%\n",
            "Epoch [3/10], Step [150/235], Loss: 0.0297, Accuracy: 99.61%\n",
            "Epoch [4/10], Step [0/235], Loss: 0.0083, Accuracy: 100.00%\n",
            "Epoch [4/10], Step [150/235], Loss: 0.0152, Accuracy: 99.61%\n",
            "Epoch [5/10], Step [0/235], Loss: 0.0103, Accuracy: 99.61%\n",
            "Epoch [5/10], Step [150/235], Loss: 0.0132, Accuracy: 99.61%\n",
            "Epoch [6/10], Step [0/235], Loss: 0.0128, Accuracy: 99.61%\n",
            "Epoch [6/10], Step [150/235], Loss: 0.0050, Accuracy: 100.00%\n",
            "Epoch [7/10], Step [0/235], Loss: 0.0059, Accuracy: 99.61%\n",
            "Epoch [7/10], Step [150/235], Loss: 0.0113, Accuracy: 99.61%\n",
            "Epoch [8/10], Step [0/235], Loss: 0.0171, Accuracy: 99.61%\n",
            "Epoch [8/10], Step [150/235], Loss: 0.0013, Accuracy: 100.00%\n",
            "Epoch [9/10], Step [0/235], Loss: 0.0055, Accuracy: 100.00%\n",
            "Epoch [9/10], Step [150/235], Loss: 0.0081, Accuracy: 99.61%\n",
            "Epoch [10/10], Step [0/235], Loss: 0.0021, Accuracy: 100.00%\n",
            "Epoch [10/10], Step [150/235], Loss: 0.0165, Accuracy: 99.22%\n",
            "Accuracy of the model on the 10000 test images: 98.67 %\n"
          ]
        }
      ]
    },
    {
      "cell_type": "markdown",
      "metadata": {
        "id": "saD6uIinyy8n"
      },
      "source": [
        "# **Adversarial Example**\n",
        "Question: Can we fool this model?\n",
        "\n"
      ]
    },
    {
      "cell_type": "code",
      "metadata": {
        "colab": {
          "base_uri": "https://localhost:8080/",
          "height": 356
        },
        "id": "L75E4A0Dyxcf",
        "outputId": "3e248753-22bb-4c06-cc75-c3036218b95c"
      },
      "source": [
        "#FGSM\n",
        "def fgsm(model, criterion, images, labels, step_size) :\n",
        "\n",
        "    images.requires_grad = True # give me those gradients!\n",
        "\n",
        "    outputs = model(images) #feed the original images to the model, and get the predictions\n",
        "\n",
        "    model.zero_grad() #zero out the gradients\n",
        "    loss = criterion(outputs, labels) # compute loss value\n",
        "    loss.backward() # feedback to the model, compute the gradients.\n",
        "\n",
        "    ae_images = images + step_size*images.grad.sign()\n",
        "    ae_images = torch.clamp(ae_images, 0, 1)\n",
        "\n",
        "    return ae_images\n",
        "\n",
        "model.eval()\n",
        "\n",
        "correct = 0\n",
        "total = 0\n",
        "for images, labels in test_loader:\n",
        "    images = images.cuda()\n",
        "    labels = labels.cuda()\n",
        "    ae_images = fgsm(model, criterion, images, labels, step_size=0.15)\n",
        "\n",
        "    outputs = model(ae_images)\n",
        "    _, predicted = torch.max(outputs.data, 1)\n",
        "    total += labels.size(0)\n",
        "    correct += (predicted == labels).sum().item()\n",
        "\n",
        "print(\n",
        "  'Accuracy of the model on the 10000 test images: {} %'.format((correct / total) * 100))\n",
        "\n",
        "\n",
        "show_images(images[:10].detach())\n",
        "# show_images(ae_images[:10].detach())\n",
        "show_images_withPred(ae_images[:10].detach(),labels[:10], outputs[:10].argmax(dim=1))\n"
      ],
      "execution_count": null,
      "outputs": [
        {
          "output_type": "stream",
          "name": "stdout",
          "text": [
            "Accuracy of the model on the 10000 test images: 24.27 %\n"
          ]
        },
        {
          "output_type": "display_data",
          "data": {
            "text/plain": [
              "<Figure size 2400x600 with 10 Axes>"
            ],
            "image/png": "[encoded data removed]"
          },
          "metadata": {}
        },
        {
          "output_type": "display_data",
          "data": {
            "text/plain": [
              "<Figure size 2400x600 with 10 Axes>"
            ],
            "image/png": "[encoded data removed]"
          },
          "metadata": {}
        }
      ]
    },
    {
      "cell_type": "code",
      "metadata": {
        "colab": {
          "base_uri": "https://localhost:8080/",
          "height": 635
        },
        "id": "jy3dD71V7YLc",
        "outputId": "291f2a3b-da05-48a1-8fbe-9c718ae3e5a1"
      },
      "source": [
        "#Random noise injection\n",
        "def rand_noise_attack(images, step_size) :\n",
        "    rand_perturbation = torch.randn_like(images)\n",
        "    ae_images = images + step_size*rand_perturbation.sign()\n",
        "    #show_images(rand_perturbation.sign()[:5])\n",
        "    ae_images = torch.clamp(ae_images, 0, 1)\n",
        "\n",
        "    return ae_images\n",
        "\n",
        "\n",
        "\n",
        "model.eval()\n",
        "\n",
        "correct = 0\n",
        "total = 0\n",
        "for images, labels in test_loader:\n",
        "    images = images.cuda()\n",
        "    labels = labels.cuda()\n",
        "    ae_images = rand_noise_attack(images,step_size=0.15)\n",
        "\n",
        "    outputs = model(ae_images)\n",
        "    _, predicted = torch.max(outputs.data, 1)\n",
        "    total += labels.size(0)\n",
        "    correct += (predicted == labels).sum().item()\n",
        "\n",
        "print(\n",
        "  'Accuracy of the model on the 10000 test images: {} %'.format((correct / total) * 100))\n",
        "\n",
        "\n",
        "\n",
        "show_images(images[:5].detach())\n",
        "show_images_withPred(ae_images[:5].detach(),labels[:5], outputs[:5].argmax(dim=1))"
      ],
      "execution_count": null,
      "outputs": [
        {
          "output_type": "stream",
          "name": "stdout",
          "text": [
            "Accuracy of the model on the 10000 test images: 86.02 %\n"
          ]
        },
        {
          "output_type": "display_data",
          "data": {
            "text/plain": [
              "<Figure size 2400x600 with 5 Axes>"
            ],
            "image/png": "[encoded data removed]"
          },
          "metadata": {}
        },
        {
          "output_type": "display_data",
          "data": {
            "text/plain": [
              "<Figure size 2400x600 with 5 Axes>"
            ],
            "image/png": "[encoded data removed]"
          },
          "metadata": {}
        }
      ]
    },
    {
      "cell_type": "code",
      "source": [
        "# PGD Attack\n",
        "\n",
        "def pgd_attack(model, images, criterion, labels, eps=0.3, step_size=0.004, iters=40) :\n",
        "    images = images.cuda()\n",
        "    labels = labels.cuda()\n",
        "\n",
        "    ori_images = images.data\n",
        "\n",
        "    for i in range(iters) :\n",
        "        images.requires_grad = True\n",
        "        outputs = model(images)\n",
        "\n",
        "        model.zero_grad()\n",
        "        cost = criterion(outputs, labels)\n",
        "        cost.backward()\n",
        "\n",
        "        adv_images = images + step_size*images.grad.sign()\n",
        "        eta = torch.clamp(adv_images - ori_images, min=-eps, max=eps)\n",
        "        images = torch.clamp(ori_images + eta, min=0, max=1).detach_()\n",
        "\n",
        "    return images\n",
        "\n",
        "\n",
        "model.eval()\n",
        "\n",
        "correct = 0\n",
        "total = 0\n",
        "for images, labels in test_loader:\n",
        "    images = images.cuda()\n",
        "    labels = labels.cuda()\n",
        "    ae_images = pgd_attack(model, images, criterion,labels)\n",
        "\n",
        "    outputs = model(ae_images)\n",
        "    _, predicted = torch.max(outputs.data, 1)\n",
        "    total += labels.size(0)\n",
        "    correct += (predicted == labels).sum().item()\n",
        "\n",
        "print(\n",
        "  'Accuracy of the model on the 10000 test images: {} %'.format((correct / total) * 100))\n",
        "\n",
        "\n",
        "show_images(images[:5].detach())\n",
        "show_images_withPred(ae_images[:5].detach(),labels[:5], outputs[:5].argmax(dim=1))"
      ],
      "metadata": {
        "colab": {
          "base_uri": "https://localhost:8080/",
          "height": 635
        },
        "id": "zm44ntfAOg1u",
        "outputId": "85083e5f-e1a4-4597-e03d-6f3bc4a76316"
      },
      "execution_count": null,
      "outputs": [
        {
          "output_type": "stream",
          "name": "stdout",
          "text": [
            "Accuracy of the model on the 10000 test images: 0.19 %\n"
          ]
        },
        {
          "output_type": "display_data",
          "data": {
            "text/plain": [
              "<Figure size 2400x600 with 5 Axes>"
            ],
            "image/png": "[encoded data removed]"
          },
          "metadata": {}
        },
        {
          "output_type": "display_data",
          "data": {
            "text/plain": [
              "<Figure size 2400x600 with 5 Axes>"
            ],
            "image/png": "[encoded data removed]"
          },
          "metadata": {}
        }
      ]
    },
    {
      "cell_type": "markdown",
      "metadata": {
        "id": "6A4Nr85nzkGK"
      },
      "source": [
        "# **Black-box vs White-box AE**\n",
        "\n",
        "White-box: the attacker has the access to the victim model, including model architecture, weights, gradients, etc.\n",
        "\n",
        "Black-box: However, in practice, attackers usually do not have such access. Then, as an endless cat&mouse game, what should the attacker do to fool the target model?\n",
        "\n",
        "Answer: they may train a substitute model B similar to the target model A. Then, they generate AEs on the local model B and feed the AEs to model A. If B and A are similar enough, the generated AEs should yield a high attack success rate.\n",
        "\n"
      ]
    },
    {
      "cell_type": "code",
      "metadata": {
        "colab": {
          "base_uri": "https://localhost:8080/"
        },
        "id": "FjezR4nJfLwk",
        "outputId": "b590eae5-4484-4192-ecf7-6193a6e4ae45"
      },
      "source": [
        "# Model B, ideal case, the attacker has the knowledge of the model A's architecture.\n",
        "\n",
        "class Attacker_Model(nn.Module):\n",
        "    def __init__(self):\n",
        "        super(Attacker_Model, self).__init__()\n",
        "        self.features = nn.Sequential(\n",
        "            nn.Conv2d(1, 6, kernel_size=5, stride=1, padding=2),\n",
        "            nn.MaxPool2d(kernel_size=2, stride=2),\n",
        "            nn.Conv2d(6, 16, kernel_size=5, stride=1, padding=2),\n",
        "            nn.MaxPool2d(kernel_size=2, stride=2),\n",
        "            nn.Flatten(1, -1),\n",
        "        )\n",
        "        self.fc1 = nn.Linear(7 * 7 * 16, 120)\n",
        "        self.fc2 = nn.Linear(120, 84)\n",
        "        self.fc3 = nn.Linear(84, 10)\n",
        "\n",
        "    def forward(self, x):\n",
        "        out = self.features(x)\n",
        "        out = self.fc1(out)\n",
        "        out = self.fc2(out)\n",
        "        out = self.fc3(out)\n",
        "\n",
        "        return out\n",
        "\n",
        "\n",
        "model_B=Attacker_Model()\n",
        "model_B.cuda()\n",
        "model_B.train()\n",
        "\n",
        "\n",
        "# Assume the attacker has a smaller dataset (5000 images).\n",
        "from torch.utils.data import Subset\n",
        "\n",
        "tempid = torch.range(0, 5000,dtype=torch.int)\n",
        "train_dataset_attacker = Subset(train_dataset, tempid)\n",
        "# Data loader\n",
        "train_loader_attacker = DataLoader(dataset=train_dataset_attacker, batch_size=batch_size, num_workers=4, shuffle=True)\n",
        "\n",
        "# Loss and optimizer\n",
        "criterion = nn.CrossEntropyLoss()\n",
        "optimizer_attacker = torch.optim.Adam(model_B.parameters(), lr=learning_rate)\n",
        "\n",
        "\n",
        "# Train model B\n",
        "model_B.train()\n",
        "loss_list_cnn = []\n",
        "acc_list_cnn = []\n",
        "total_step = len(train_loader_attacker)\n",
        "\n",
        "for epoch in range(40):\n",
        "  for i, (images, labels) in enumerate(train_loader_attacker):\n",
        "    images = images.cuda()\n",
        "    labels = labels.cuda()\n",
        "\n",
        "    outputs = model_B(images)\n",
        "\n",
        "    loss = criterion(outputs, labels)\n",
        "    loss_list_cnn.append(loss.item())\n",
        "\n",
        "    # Backprop and percform Adam optimisation\n",
        "    optimizer_attacker.zero_grad()\n",
        "    loss.backward()\n",
        "    optimizer_attacker.step()\n",
        "\n",
        "    # Track the accuracy\n",
        "    total = labels.size(0)\n",
        "    _, predicted = torch.max(outputs.data, 1)\n",
        "    correct = (predicted == labels).sum().item()\n",
        "    acc_list_cnn.append(correct / total)\n",
        "\n",
        "    if (i%150 == 0):\n",
        "      print('Epoch [{}/{}], Step [{}/{}], Loss: {:.4f}, Accuracy: {:.2f}%'\n",
        "              .format(epoch + 1, num_epochs, i, total_step, loss.item(),\n",
        "                      (correct / total) * 100))\n",
        "\n",
        "\n",
        "model_B.eval()\n",
        "with torch.no_grad():\n",
        "  correct = 0\n",
        "  total = 0\n",
        "  for images, labels in test_loader:\n",
        "      images = images.cuda()\n",
        "      labels = labels.cuda()\n",
        "\n",
        "      outputs = model_B(images)\n",
        "      _, predicted = torch.max(outputs.data, 1)\n",
        "      total += labels.size(0)\n",
        "      correct += (predicted == labels).sum().item()\n",
        "\n",
        "print(\n",
        "  'Accuracy of the model_B on the 10000 test images: {} %'.format((correct / total) * 100))"
      ],
      "execution_count": null,
      "outputs": [
        {
          "output_type": "stream",
          "name": "stderr",
          "text": [
            "<ipython-input-8-70fe4467452c>:34: UserWarning: torch.range is deprecated and will be removed in a future release because its behavior is inconsistent with Python's range builtin. Instead, use torch.arange, which produces values in [start, end).\n",
            "  tempid = torch.range(0, 5000,dtype=torch.int)\n"
          ]
        },
        {
          "output_type": "stream",
          "name": "stdout",
          "text": [
            "Epoch [1/10], Step [0/20], Loss: 2.3034, Accuracy: 9.38%\n",
            "Epoch [2/10], Step [0/20], Loss: 1.1538, Accuracy: 70.70%\n",
            "Epoch [3/10], Step [0/20], Loss: 0.5758, Accuracy: 86.72%\n",
            "Epoch [4/10], Step [0/20], Loss: 0.4192, Accuracy: 86.33%\n",
            "Epoch [5/10], Step [0/20], Loss: 0.2275, Accuracy: 93.36%\n",
            "Epoch [6/10], Step [0/20], Loss: 0.2319, Accuracy: 93.36%\n",
            "Epoch [7/10], Step [0/20], Loss: 0.3120, Accuracy: 90.23%\n",
            "Epoch [8/10], Step [0/20], Loss: 0.2010, Accuracy: 93.75%\n",
            "Epoch [9/10], Step [0/20], Loss: 0.1191, Accuracy: 96.88%\n",
            "Epoch [10/10], Step [0/20], Loss: 0.1615, Accuracy: 95.31%\n",
            "Epoch [11/10], Step [0/20], Loss: 0.1337, Accuracy: 95.31%\n",
            "Epoch [12/10], Step [0/20], Loss: 0.0599, Accuracy: 99.22%\n",
            "Epoch [13/10], Step [0/20], Loss: 0.1038, Accuracy: 97.66%\n",
            "Epoch [14/10], Step [0/20], Loss: 0.0927, Accuracy: 96.88%\n",
            "Epoch [15/10], Step [0/20], Loss: 0.0588, Accuracy: 98.44%\n",
            "Epoch [16/10], Step [0/20], Loss: 0.0529, Accuracy: 98.44%\n",
            "Epoch [17/10], Step [0/20], Loss: 0.0712, Accuracy: 97.27%\n",
            "Epoch [18/10], Step [0/20], Loss: 0.0749, Accuracy: 98.83%\n",
            "Epoch [19/10], Step [0/20], Loss: 0.0695, Accuracy: 97.66%\n",
            "Epoch [20/10], Step [0/20], Loss: 0.0286, Accuracy: 99.22%\n",
            "Epoch [21/10], Step [0/20], Loss: 0.0650, Accuracy: 98.05%\n",
            "Epoch [22/10], Step [0/20], Loss: 0.0181, Accuracy: 99.61%\n",
            "Epoch [23/10], Step [0/20], Loss: 0.0246, Accuracy: 99.61%\n",
            "Epoch [24/10], Step [0/20], Loss: 0.0294, Accuracy: 99.61%\n",
            "Epoch [25/10], Step [0/20], Loss: 0.0590, Accuracy: 97.27%\n",
            "Epoch [26/10], Step [0/20], Loss: 0.0338, Accuracy: 98.83%\n",
            "Epoch [27/10], Step [0/20], Loss: 0.0247, Accuracy: 99.22%\n",
            "Epoch [28/10], Step [0/20], Loss: 0.0351, Accuracy: 99.22%\n",
            "Epoch [29/10], Step [0/20], Loss: 0.0222, Accuracy: 99.61%\n",
            "Epoch [30/10], Step [0/20], Loss: 0.0091, Accuracy: 100.00%\n",
            "Epoch [31/10], Step [0/20], Loss: 0.0138, Accuracy: 100.00%\n",
            "Epoch [32/10], Step [0/20], Loss: 0.0045, Accuracy: 100.00%\n",
            "Epoch [33/10], Step [0/20], Loss: 0.0126, Accuracy: 99.61%\n",
            "Epoch [34/10], Step [0/20], Loss: 0.0118, Accuracy: 99.61%\n",
            "Epoch [35/10], Step [0/20], Loss: 0.0067, Accuracy: 100.00%\n",
            "Epoch [36/10], Step [0/20], Loss: 0.0051, Accuracy: 100.00%\n",
            "Epoch [37/10], Step [0/20], Loss: 0.0063, Accuracy: 100.00%\n",
            "Epoch [38/10], Step [0/20], Loss: 0.0045, Accuracy: 100.00%\n",
            "Epoch [39/10], Step [0/20], Loss: 0.0047, Accuracy: 100.00%\n",
            "Epoch [40/10], Step [0/20], Loss: 0.0037, Accuracy: 100.00%\n",
            "Accuracy of the model_B on the 10000 test images: 96.67999999999999 %\n"
          ]
        }
      ]
    },
    {
      "cell_type": "markdown",
      "metadata": {
        "id": "SeJxPMZ1hWTO"
      },
      "source": [
        "**Now we generate the AE on model B and test them on model A**"
      ]
    },
    {
      "cell_type": "code",
      "metadata": {
        "colab": {
          "base_uri": "https://localhost:8080/",
          "height": 430
        },
        "id": "nurgJo-fhVhH",
        "outputId": "f71582b6-5942-47ef-a98b-85df0f14bb18"
      },
      "source": [
        "model.eval()\n",
        "model_B.eval()\n",
        "\n",
        "correct = 0\n",
        "total = 0\n",
        "\n",
        "correct_B = 0\n",
        "total_B = 0\n",
        "for images, labels in test_loader:\n",
        "    images = images.cuda()\n",
        "    labels = labels.cuda()\n",
        "    #generate AEs on model B\n",
        "    ae_images = fgsm(model_B, criterion, images, labels, step_size=0.15)\n",
        "\n",
        "    #compute local accuracy on model B\n",
        "    outputs = model_B(ae_images)\n",
        "    _, predicted = torch.max(outputs.data, 1)\n",
        "    total_B += labels.size(0)\n",
        "    correct_B += (predicted == labels).sum().item()\n",
        "\n",
        "    #compute accuracy on model A\n",
        "    outputs = model(ae_images)\n",
        "    _, predicted = torch.max(outputs.data, 1)\n",
        "    total += labels.size(0)\n",
        "    correct += (predicted == labels).sum().item()\n",
        "\n",
        "print(\n",
        "  'Accuracy of the model_B on the 10000 test images: {} %'.format((correct_B / total_B) * 100))\n",
        "\n",
        "print(\n",
        "  'Accuracy of the model on the 10000 test images: {} %'.format((correct / total) * 100))\n",
        "\n",
        "\n",
        "show_images(images[:10].detach())\n",
        "show_images_withPred(ae_images[:10].detach(),labels[:10], outputs[:10].argmax(dim=1))"
      ],
      "execution_count": null,
      "outputs": [
        {
          "output_type": "stream",
          "name": "stderr",
          "text": [
            "/usr/local/lib/python3.9/dist-packages/torch/utils/data/dataloader.py:561: UserWarning: This DataLoader will create 4 worker processes in total. Our suggested max number of worker in current system is 2, which is smaller than what this DataLoader is going to create. Please be aware that excessive worker creation might get DataLoader running slow or even freeze, lower the worker number to avoid potential slowness/freeze if necessary.\n",
            "  warnings.warn(_create_warning_msg(\n"
          ]
        },
        {
          "output_type": "stream",
          "name": "stdout",
          "text": [
            "Accuracy of the model_B on the 10000 test images: 19.3 %\n",
            "Accuracy of the model on the 10000 test images: 74.0 %\n"
          ]
        },
        {
          "output_type": "display_data",
          "data": {
            "text/plain": [
              "<Figure size 2400x600 with 10 Axes>"
            ],
            "image/png": "[encoded data removed]"
          },
          "metadata": {}
        },
        {
          "output_type": "display_data",
          "data": {
            "text/plain": [
              "<Figure size 2400x600 with 10 Axes>"
            ],
            "image/png": "[encoded data removed]"
          },
          "metadata": {}
        }
      ]
    },
    {
      "cell_type": "code",
      "source": [],
      "metadata": {
        "id": "rb0SlrtVQ-dA"
      },
      "execution_count": null,
      "outputs": []
    },
    {
      "cell_type": "markdown",
      "metadata": {
        "id": "k8F5_0rpoHH9"
      },
      "source": [
        "Related materials:\n",
        "https://colab.research.google.com/drive/1_Bx3HkZ7ZOmSmsSVryfqEMKkKR-q9363?usp=sharing\n"
      ]
    },
    {
      "cell_type": "markdown",
      "metadata": {
        "id": "4GclMgZLuBxE"
      },
      "source": []
    }
  ]
}